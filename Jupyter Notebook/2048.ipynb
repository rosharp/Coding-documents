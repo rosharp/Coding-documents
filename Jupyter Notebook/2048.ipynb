{
 "cells": [
  {
   "cell_type": "code",
   "execution_count": 13,
   "id": "b4c2f38d",
   "metadata": {},
   "outputs": [
    {
     "name": "stderr",
     "output_type": "stream",
     "text": [
      "Exception in Tkinter callback\n",
      "Traceback (most recent call last):\n",
      "  File \"/Library/Frameworks/Python.framework/Versions/3.9/lib/python3.9/tkinter/__init__.py\", line 1885, in __call__\n",
      "    return self.func(*args)\n",
      "  File \"/var/folders/7h/bmp0qh9d4jld9yvl5j5f9ryr0000gn/T/ipykernel_5524/2003681982.py\", line 16, in add_tile\n",
      "    field[i][j] = grid(row=i, column=j)\n",
      "NameError: name 'grid' is not defined\n",
      "Exception in Tkinter callback\n",
      "Traceback (most recent call last):\n",
      "  File \"/Library/Frameworks/Python.framework/Versions/3.9/lib/python3.9/tkinter/__init__.py\", line 1885, in __call__\n",
      "    return self.func(*args)\n",
      "  File \"/var/folders/7h/bmp0qh9d4jld9yvl5j5f9ryr0000gn/T/ipykernel_5524/2003681982.py\", line 16, in add_tile\n",
      "    field[i][j] = grid(row=i, column=j)\n",
      "NameError: name 'grid' is not defined\n",
      "Exception in Tkinter callback\n",
      "Traceback (most recent call last):\n",
      "  File \"/Library/Frameworks/Python.framework/Versions/3.9/lib/python3.9/tkinter/__init__.py\", line 1885, in __call__\n",
      "    return self.func(*args)\n",
      "  File \"/var/folders/7h/bmp0qh9d4jld9yvl5j5f9ryr0000gn/T/ipykernel_5524/2003681982.py\", line 16, in add_tile\n",
      "    field[i][j] = grid(row=i, column=j)\n",
      "NameError: name 'grid' is not defined\n",
      "Exception in Tkinter callback\n",
      "Traceback (most recent call last):\n",
      "  File \"/Library/Frameworks/Python.framework/Versions/3.9/lib/python3.9/tkinter/__init__.py\", line 1885, in __call__\n",
      "    return self.func(*args)\n",
      "  File \"/var/folders/7h/bmp0qh9d4jld9yvl5j5f9ryr0000gn/T/ipykernel_5524/2003681982.py\", line 16, in add_tile\n",
      "    field[i][j] = grid(row=i, column=j)\n",
      "NameError: name 'grid' is not defined\n"
     ]
    }
   ],
   "source": [
    "from tkinter import *\n",
    "from random import randint\n",
    "\n",
    "root = Tk()\n",
    "\n",
    "field = [[None] * 4 for i in range(4)] # Пустое поле\n",
    "\n",
    "for i in range(4):\n",
    "    Label(root, text=' ', font='Arial 48').grid(row=4, column=i)\n",
    "    Label(root, text=' ', font='Arial 48').grid(row=i, column=4)\n",
    "\n",
    "def add_tile(event):\n",
    "    i, j = randint(0, 3), randint(0, 3)\n",
    "    if not field[i][j]:\n",
    "        field[i][j] = Label(root, text='2', font='Arial 48') # Одна новая плитка\n",
    "        field[i][j] = grid(row=i, column=j)\n",
    "    else:\n",
    "        add_tile(event)\n",
    "        \n",
    "root.bind('<Left>', add_tile)\n",
    "\n",
    "root.mainloop()\n",
    "\n"
   ]
  },
  {
   "cell_type": "code",
   "execution_count": null,
   "id": "80690ca3",
   "metadata": {},
   "outputs": [],
   "source": []
  }
 ],
 "metadata": {
  "kernelspec": {
   "display_name": "Python 3 (ipykernel)",
   "language": "python",
   "name": "python3"
  },
  "language_info": {
   "codemirror_mode": {
    "name": "ipython",
    "version": 3
   },
   "file_extension": ".py",
   "mimetype": "text/x-python",
   "name": "python",
   "nbconvert_exporter": "python",
   "pygments_lexer": "ipython3",
   "version": "3.9.0"
  }
 },
 "nbformat": 4,
 "nbformat_minor": 5
}
