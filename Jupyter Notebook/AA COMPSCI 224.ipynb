{
 "cells": [
  {
   "cell_type": "markdown",
   "id": "cf704fd4",
   "metadata": {},
   "source": [
    "# Lecture 1\n",
    "\n",
    "Goals:\n",
    "- Increased ability to analize and create algorithms \n",
    "- Looking at different models within which to analyze algorithms\n",
    "\n",
    "## Static/dynamic Predecessor\n",
    "\n",
    "- Data structure represents set S of items {xi - xn}\n",
    "- Query: pred(z) = max{x S\" x<z} \n",
    "- want low space, fast query\n",
    "- Static - no insertions\n",
    "- Dynamyc - insertions \n",
    "\n",
    "Example soln: \n",
    "- Store number sorted, do binary search - static. Time - log N\n",
    "- O(lgn) dynamic query using balanced BST. \n",
    "\n",
    "Find maximum in linear, put max in pred, sort the elements using pred. There are faster ones than lgn (log N). \n",
    "\n",
    "lgn - comparisent based operation. But it doesn't work like that in real life. It's easier. \n",
    "\n",
    "## Word RAM model \n",
    "- Itemsare inegers in {0, 1..., 2^w-1}\n",
    "- w = 'word size', u = 2^w-1 \n",
    "- also aassume that pointers fit in a word. \n",
    "\n",
    "Space ≥ n\n",
    "w ≥ lg(space) ≥ lgn"
   ]
  }
 ],
 "metadata": {
  "kernelspec": {
   "display_name": "Python 3 (ipykernel)",
   "language": "python",
   "name": "python3"
  },
  "language_info": {
   "codemirror_mode": {
    "name": "ipython",
    "version": 3
   },
   "file_extension": ".py",
   "mimetype": "text/x-python",
   "name": "python",
   "nbconvert_exporter": "python",
   "pygments_lexer": "ipython3",
   "version": "3.9.0"
  }
 },
 "nbformat": 4,
 "nbformat_minor": 5
}
