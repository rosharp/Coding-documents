{
 "cells": [
  {
   "cell_type": "code",
   "execution_count": 4,
   "id": "ea319d4e",
   "metadata": {},
   "outputs": [
    {
     "name": "stderr",
     "output_type": "stream",
     "text": [
      "2021-08-03 08:42:13.649 Python[4513:284674] TSM AdjustCapsLockLEDForKeyTransitionHandling - _ISSetPhysicalKeyboardCapsLockLED Inhibit\n"
     ]
    }
   ],
   "source": [
    "from plyer import notification\n",
    "import tkinter as tk\n",
    "from tkinter import *\n",
    "from tkinter import filedialog\n",
    "\n",
    "\n",
    "# making window\n",
    "root = tk.Tk()\n",
    "root.geometry(\"490x270\")\n",
    "root.title('Notification App')\n",
    "root.configure(bg=\"#FFE873\")\n",
    "root.resizable(False, False)\n",
    "\n",
    "# making variable\n",
    "title_v = StringVar()\n",
    "message_v = StringVar()\n",
    "\n",
    "# design Label\n",
    "Label(root, text=\"Windows Notification App\", bg=\"#FFE873\", fg='#4B8BBE', font=\"Verdana 20 bold\").pack()\n",
    "Label(root, text=\"Title\", bg=\"#FFE873\", font=\"Verdana 10 bold\").place(x=60, y=50)\n",
    "Entry(text=\"Title\", width=50,  textvariable = title_v).place(x=150, y=50)\n",
    "\n",
    "Label(root, text=\"Message\", bg=\"#FFE873\", font=\"Verdana 10 bold\").place(x=60, y=80)\n",
    "Entry(root, width=50, textvariable = message_v).place(x=150, y=80)\n",
    "\n",
    "Label(root, text=\"Icon Path\", bg=\"#FFE873\", font=\"Verdana 10 bold\").place(x = 60, y = 120)\n",
    "label_file_explorer=Label(root, text=\"Icon: \", width=44, fg= \"blue\")\n",
    "label_file_explorer.place(x = 150, y=120)\n",
    "\n",
    "# Making Function for select icon\n",
    "def select_icon():\n",
    "    global filename\n",
    "    filename=filedialog.askopenfilename(initialdir=\"/\", title=\"Select a File\",\n",
    "                                        filetypes=((\"ICO file \", \"*.ico*\"), (\"all files\", \"*.*\")))\n",
    "    # Change label contents\n",
    "    label_file_explorer.configure(text=\"Icon : \"+filename)\n",
    "\n",
    "# Making Function for send notification\n",
    "def send_Notification():\n",
    "\n",
    "    notification.notify(\n",
    "        title=str(title_v.get()),\n",
    "        message=str(message_v.get()),\n",
    "        app_icon= filename,\n",
    "        timeout=10,  # seconds\n",
    "     )\n",
    "\n",
    "# def clear\n",
    "def clear():\n",
    "    title_v.set('')\n",
    "    message_v.set('')\n",
    "\n",
    "\n",
    "# design button\n",
    "Button(root, text=\"Select Icon\", width=15, command=select_icon).place(x = 60, y = 190)\n",
    "Button(root, text=\"Send Notification\", width=15, command= send_Notification).place(x = 190, y = 190)\n",
    "Button(root, text=\"Clear\", width=15, command= clear).place(x = 320, y = 190)\n",
    "\n",
    "root.mainloop()\n"
   ]
  },
  {
   "cell_type": "code",
   "execution_count": null,
   "id": "fb0961fa",
   "metadata": {},
   "outputs": [],
   "source": []
  }
 ],
 "metadata": {
  "kernelspec": {
   "display_name": "Python 3 (ipykernel)",
   "language": "python",
   "name": "python3"
  },
  "language_info": {
   "codemirror_mode": {
    "name": "ipython",
    "version": 3
   },
   "file_extension": ".py",
   "mimetype": "text/x-python",
   "name": "python",
   "nbconvert_exporter": "python",
   "pygments_lexer": "ipython3",
   "version": "3.9.0"
  }
 },
 "nbformat": 4,
 "nbformat_minor": 5
}
