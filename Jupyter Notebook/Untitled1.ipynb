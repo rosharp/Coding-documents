{
 "cells": [
  {
   "cell_type": "code",
   "execution_count": null,
   "id": "f385289c",
   "metadata": {},
   "outputs": [],
   "source": [
    "CLIENT_ID = '9uk8af6iys0aovzc9e1id01pw'\n",
    "CLIENT_SECRET = b83162a777f644a29ee115bcb0d4fb07"
   ]
  }
 ],
 "metadata": {
  "kernelspec": {
   "display_name": "Python 3 (ipykernel)",
   "language": "python",
   "name": "python3"
  },
  "language_info": {
   "codemirror_mode": {
    "name": "ipython",
    "version": 3
   },
   "file_extension": ".py",
   "mimetype": "text/x-python",
   "name": "python",
   "nbconvert_exporter": "python",
   "pygments_lexer": "ipython3",
   "version": "3.9.0"
  }
 },
 "nbformat": 4,
 "nbformat_minor": 5
}
