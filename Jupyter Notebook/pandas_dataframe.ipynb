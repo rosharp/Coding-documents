{
 "cells": [
  {
   "cell_type": "code",
   "execution_count": 5,
   "id": "d25616c9",
   "metadata": {},
   "outputs": [
    {
     "name": "stdout",
     "output_type": "stream",
     "text": [
      "      Name  Age\n",
      "0    Sonya   22\n",
      "1  Patrick    9\n",
      "2    Tuman    0\n",
      "3  Vitalya   20\n"
     ]
    }
   ],
   "source": [
    "# Python code demonstrate creating \n",
    "# DataFrame from dict narray / lists \n",
    "# By default addresses.\n",
    " \n",
    "import pandas as pd\n",
    " \n",
    "# intialise data of lists.\n",
    "data = {'Name':['Sonya', 'Patrick', 'Tuman', 'Vitalya'],\n",
    "        'Age':[22, 9, 0, 20]}\n",
    " \n",
    "# Create DataFrame\n",
    "df = pd.DataFrame(data)\n",
    " \n",
    "# Print the output.\n",
    "print(df)\n"
   ]
  },
  {
   "cell_type": "code",
   "execution_count": 8,
   "id": "46268638",
   "metadata": {},
   "outputs": [
    {
     "name": "stdout",
     "output_type": "stream",
     "text": [
      "     Name Qualification\n",
      "0     Jai           Msc\n",
      "1  Princi            MA\n",
      "2  Gaurav           MCA\n",
      "3    Anuj           Phd\n"
     ]
    }
   ],
   "source": [
    "# Import pandas package\n",
    "import pandas as pd\n",
    " \n",
    "# Define a dictionary containing employee data\n",
    "data = {'Name':['Jai', 'Princi', 'Gaurav', 'Anuj'],\n",
    "        'Age':[27, 24, 22, 32],\n",
    "        'Address':['Delhi', 'Kanpur', 'Allahabad', 'Kannauj'],\n",
    "        'Qualification':['Msc', 'MA', 'MCA', 'Phd']}\n",
    " \n",
    "# Convert the dictionary into DataFrame \n",
    "df = pd.DataFrame(data)\n",
    " \n",
    "# select two columns\n",
    "print(df[['Name', 'Qualification']])"
   ]
  },
  {
   "cell_type": "code",
   "execution_count": 11,
   "id": "3a392998",
   "metadata": {},
   "outputs": [
    {
     "name": "stdout",
     "output_type": "stream",
     "text": [
      "Team        Boston Celtics\n",
      "Number                 0.0\n",
      "Position                PG\n",
      "Age                   25.0\n",
      "Height                 6-2\n",
      "Weight               180.0\n",
      "College              Texas\n",
      "Salary           7730337.0\n",
      "Name: Avery Bradley, dtype: object \n",
      "\n",
      "\n",
      " Team        Boston Celtics\n",
      "Number                28.0\n",
      "Position                SG\n",
      "Age                   22.0\n",
      "Height                 6-5\n",
      "Weight               185.0\n",
      "College      Georgia State\n",
      "Salary           1148640.0\n",
      "Name: R.J. Hunter, dtype: object\n"
     ]
    }
   ],
   "source": [
    "# importing pandas package\n",
    "import pandas as pd\n",
    " \n",
    "# making data frame from csv file\n",
    "data = pd.read_csv(\"nba.csv\", index_col =\"Name\")\n",
    " \n",
    "# retrieving row by loc method\n",
    "first = data.loc[\"Avery Bradley\"]\n",
    "second = data.loc[\"R.J. Hunter\"]\n",
    " \n",
    " \n",
    "print(first, \"\\n\\n\\n\", second)"
   ]
  },
  {
   "cell_type": "code",
   "execution_count": null,
   "id": "f01a7d62",
   "metadata": {},
   "outputs": [],
   "source": []
  },
  {
   "cell_type": "code",
   "execution_count": null,
   "id": "0eb2afac",
   "metadata": {},
   "outputs": [],
   "source": []
  }
 ],
 "metadata": {
  "kernelspec": {
   "display_name": "Python 3 (ipykernel)",
   "language": "python",
   "name": "python3"
  },
  "language_info": {
   "codemirror_mode": {
    "name": "ipython",
    "version": 3
   },
   "file_extension": ".py",
   "mimetype": "text/x-python",
   "name": "python",
   "nbconvert_exporter": "python",
   "pygments_lexer": "ipython3",
   "version": "3.9.0"
  }
 },
 "nbformat": 4,
 "nbformat_minor": 5
}
