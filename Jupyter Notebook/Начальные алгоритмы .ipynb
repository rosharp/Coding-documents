{
 "cells": [
  {
   "cell_type": "code",
   "execution_count": 5,
   "id": "aa3e2b37",
   "metadata": {},
   "outputs": [
    {
     "name": "stdout",
     "output_type": "stream",
     "text": [
      "[5, 8, 7, 6, 2, 1, 3, 6, 10]\n",
      "[1, 2, 3, 5, 6, 6, 7, 8, 10]\n"
     ]
    }
   ],
   "source": [
    "# Сортировка пузырьком \n",
    "\n",
    "n = [5, 8, 7, 6, 2, 1, 3, 6, 10]\n",
    "\n",
    "print(n)\n",
    "\n",
    "for i in range(len(n)):\n",
    "    for j in range(len(n)-i-1):\n",
    "        if n[j] > n[j+1]:\n",
    "            n[j], n[j+1] = n[j+1], n[j]\n",
    "print(n)"
   ]
  },
  {
   "cell_type": "code",
   "execution_count": 3,
   "id": "b31b5097",
   "metadata": {},
   "outputs": [
    {
     "name": "stdout",
     "output_type": "stream",
     "text": [
      "Факториал числа 5 равен 120.\n"
     ]
    }
   ],
   "source": [
    "# Факториал числа \n",
    "\n",
    "## Метод рекурсии\n",
    "num = 5\n",
    "\n",
    "def factorial(n):\n",
    "    if n == 0:\n",
    "        return 1\n",
    "    return factorial(n-1) * n\n",
    "\n",
    "print('Факториал числа {n} равен {f}.'.format(n=num, f=factorial(num)))"
   ]
  },
  {
   "cell_type": "code",
   "execution_count": 4,
   "id": "c76fef18",
   "metadata": {},
   "outputs": [
    {
     "name": "stdout",
     "output_type": "stream",
     "text": [
      "Факториал числа 5 равен 120.\n"
     ]
    }
   ],
   "source": [
    "## Метод цикла\n",
    "\n",
    "num = 5\n",
    "\n",
    "def factorial(n):\n",
    "    if n == 0:\n",
    "        return 1\n",
    "    f = 1\n",
    "    i = 0\n",
    "    \n",
    "    while i < n:\n",
    "        i += 1\n",
    "        f = f * i\n",
    "    \n",
    "    return f\n",
    "\n",
    "print('Факториал числа {n} равен {f}.'.format(n=num, f=factorial(num)))"
   ]
  },
  {
   "cell_type": "code",
   "execution_count": 9,
   "id": "25991923",
   "metadata": {},
   "outputs": [
    {
     "name": "stdout",
     "output_type": "stream",
     "text": [
      "55\n"
     ]
    }
   ],
   "source": [
    "# Числа Фибоначчи \n",
    "\n",
    "f1 = f2 = 1\n",
    "n = 10\n",
    "\n",
    "# print(f1, end=' ')\n",
    "# print(f2, end=' ')\n",
    "\n",
    "for i in range(2, n):\n",
    "    f1, f2 = f2, f1 + f2 # сумма двух предыдущих чисел\n",
    "    # print(f1, end=' ')\n",
    "    \n",
    "# выводим конкретный ряд \n",
    "\n",
    "print(f2)"
   ]
  },
  {
   "cell_type": "code",
   "execution_count": 8,
   "id": "7ce676bd",
   "metadata": {},
   "outputs": [
    {
     "name": "stdout",
     "output_type": "stream",
     "text": [
      "  0:   0\n",
      "  1:   1\n",
      "  2:   1\n",
      "  3:   2\n",
      "  4:   3\n",
      "  5:   5\n",
      "  6:   8\n",
      "  7:  13\n",
      "  8:  21\n",
      "  9:  34\n",
      " 10:  55\n"
     ]
    }
   ],
   "source": [
    "def fib():\n",
    "    f1, f2 = 0, 1\n",
    "    \n",
    "    while True:\n",
    "        yield f1\n",
    "        f1, f2 = f2, f1 + f2\n",
    "        \n",
    "for i, f in zip(range(10 + 1), fib()):\n",
    "    print('{i:3}: {f:3}'.format(i=i, f=f))"
   ]
  },
  {
   "cell_type": "code",
   "execution_count": null,
   "id": "2f53fdfa",
   "metadata": {},
   "outputs": [],
   "source": [
    "# Расстояние Левенштейна (редакционное расстояние)\n",
    "\n",
    "str1 = 'Привет'\n",
    "str2 = 'Приветики'\n",
    "\n",
    "def dist(a, b):\n",
    "    def rec(i, j):\n",
    "        if i == 0 or j == 0:\n",
    "            # если строка пустая, то расстояние равняется ее длине (n вставок)\n",
    "            return max(i, j)\n",
    "        elif a[i-1] == b[j-1]:\n",
    "            # если последние символы одинаковые, просто съедаем их\n",
    "            return rec(i-1, j-1)\n",
    "        else:\n",
    "            # иначе считаем минимальный вариант\n",
    "            return 1 + min(\n",
    "                rec(i, j-1), # удаление символа\n",
    "                rec(i, j-1), # удаление символа\n",
    "                rec(i, j-1)  # удаление символа\n",
    "            )\n",
    "\n",
    "        \n",
    "        "
   ]
  }
 ],
 "metadata": {
  "kernelspec": {
   "display_name": "Python 3 (ipykernel)",
   "language": "python",
   "name": "python3"
  },
  "language_info": {
   "codemirror_mode": {
    "name": "ipython",
    "version": 3
   },
   "file_extension": ".py",
   "mimetype": "text/x-python",
   "name": "python",
   "nbconvert_exporter": "python",
   "pygments_lexer": "ipython3",
   "version": "3.9.0"
  }
 },
 "nbformat": 4,
 "nbformat_minor": 5
}
