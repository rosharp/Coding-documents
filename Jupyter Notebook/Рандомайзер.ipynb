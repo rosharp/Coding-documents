{
 "cells": [
  {
   "cell_type": "code",
   "execution_count": 2,
   "id": "b1adb1dc",
   "metadata": {},
   "outputs": [
    {
     "name": "stdout",
     "output_type": "stream",
     "text": [
      "Пирожок дня сегодня: С вишней\n"
     ]
    }
   ],
   "source": [
    "import random\n",
    "\n",
    "test_list = ['С капустой', 'С брокколи', 'С тыквой', 'С картошкой', 'Баклажан и тофу', \"Картошка с грибами\", \n",
    "             \"Яблочный\", \"С черносливом\", \"Хачапури\", \"Адзуки\", \"С клюквой\", \"С брусникой\", \"С вишней\", \n",
    "             \"С крыжовником\", \"С морской капустой,\", \"С бананами\", \"С яблоками, корицей и сыром чеддер\", \"Лунные пирожки Луэбин\", \n",
    "             \"Китайские паровые паровые пампушки Баоцзы\", \"Бургундские пирожки с тмином\", \"Слоеные пирожки с фасолью\",\n",
    "             \"С маслинами к пиву\", \"С сыром, яблоками и мятой\", \"Картофельные с черносливом\", \"С творогом\", \"Творог с черносливом\"]\n",
    "\n",
    "random_num = random.choice(test_list)\n",
    "  \n",
    "print (\"Пирожок дня сегодня: \" + random_num)"
   ]
  },
  {
   "cell_type": "code",
   "execution_count": null,
   "id": "da337eeb",
   "metadata": {},
   "outputs": [],
   "source": [
    "original = input()\n",
    "\n",
    "if len(original) > 0:\n",
    "    print (original)\n",
    "\n",
    "else:\n",
    "    print ('empty')"
   ]
  },
  {
   "cell_type": "code",
   "execution_count": null,
   "id": "6584cc76",
   "metadata": {},
   "outputs": [],
   "source": []
  }
 ],
 "metadata": {
  "kernelspec": {
   "display_name": "Python 3 (ipykernel)",
   "language": "python",
   "name": "python3"
  },
  "language_info": {
   "codemirror_mode": {
    "name": "ipython",
    "version": 3
   },
   "file_extension": ".py",
   "mimetype": "text/x-python",
   "name": "python",
   "nbconvert_exporter": "python",
   "pygments_lexer": "ipython3",
   "version": "3.9.0"
  }
 },
 "nbformat": 4,
 "nbformat_minor": 5
}
