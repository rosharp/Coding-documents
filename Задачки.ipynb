{
 "cells": [
  {
   "cell_type": "code",
   "execution_count": null,
   "metadata": {
    "colab": {
     "base_uri": "https://localhost:8080/"
    },
    "executionInfo": {
     "elapsed": 17409,
     "status": "ok",
     "timestamp": 1631624619601,
     "user": {
      "displayName": "Ro Sharp",
      "photoUrl": "https://lh3.googleusercontent.com/a-/AOh14GifyaGhSACwici61ZFOfp11yrK8ogm68F_KuPNU=s64",
      "userId": "15545062169929366684"
     },
     "user_tz": -600
    },
    "id": "6v0o3t29Qhbz",
    "outputId": "47ab5fe0-da4d-4304-e4cc-7433226b04aa"
   },
   "outputs": [
    {
     "name": "stdout",
     "output_type": "stream",
     "text": [
      "4 3 5 2 5 1 3 5\n",
      "4 2 1\n"
     ]
    }
   ],
   "source": [
    "# Уникальные элементы\n",
    "\n",
    "s = list(map(int, input().split()))\n",
    "buf = []\n",
    "for i in s:\n",
    "    if s.count(i) == 1:\n",
    "        buf.append(i)\n",
    "print(*buf)\n"
   ]
  },
  {
   "cell_type": "code",
   "execution_count": null,
   "metadata": {
    "colab": {
     "base_uri": "https://localhost:8080/"
    },
    "executionInfo": {
     "elapsed": 6234,
     "status": "ok",
     "timestamp": 1631693188877,
     "user": {
      "displayName": "Ro Sharp",
      "photoUrl": "https://lh3.googleusercontent.com/a-/AOh14GifyaGhSACwici61ZFOfp11yrK8ogm68F_KuPNU=s64",
      "userId": "15545062169929366684"
     },
     "user_tz": -600
    },
    "id": "a39KznlGfRLQ",
    "outputId": "840836c9-6ab9-4a9b-f5d6-385b2a638d58"
   },
   "outputs": [
    {
     "name": "stdout",
     "output_type": "stream",
     "text": [
      "1 0 1 0 1 0 1 0\n",
      "1 1 1 1 0 0 0 0\n"
     ]
    }
   ],
   "source": [
    "# Переставить нули в конец\n",
    "\n",
    "list_1 = list(map(int, input().split()))\n",
    "c = 0\n",
    "for i in range(len(list_1)):\n",
    "    if list_1[i] != 0:\n",
    "        list_1[i], list_1[c] = list_1[c], list_1[i]\n",
    "        c += 1\n",
    "print(*list_1)\n",
    "\n"
   ]
  },
  {
   "cell_type": "code",
   "execution_count": null,
   "metadata": {
    "colab": {
     "base_uri": "https://localhost:8080/"
    },
    "executionInfo": {
     "elapsed": 37015,
     "status": "ok",
     "timestamp": 1631662572773,
     "user": {
      "displayName": "Ro Sharp",
      "photoUrl": "https://lh3.googleusercontent.com/a-/AOh14GifyaGhSACwici61ZFOfp11yrK8ogm68F_KuPNU=s64",
      "userId": "15545062169929366684"
     },
     "user_tz": -600
    },
    "id": "o1IDJ70jZ2c2",
    "outputId": "be198a60-b807-4897-c7ee-499540ef3d70"
   },
   "outputs": [
    {
     "name": "stdout",
     "output_type": "stream",
     "text": [
      "10 3\n",
      "8 10\n",
      "2 5\n",
      "3 6\n",
      "I.....I...\n"
     ]
    }
   ],
   "source": [
    "# Кегли\n",
    "\n",
    "N, K = (map(int, input().split()))\n",
    "kegs = ['I'] * N\n",
    "\n",
    "for j in range(K):\n",
    "    l, r = list(map(int, input().split()))\n",
    "    kegs[l-1:r] = '.' * (r-l+1)\n",
    "print(''.join(kegs))\n"
   ]
  },
  {
   "cell_type": "code",
   "execution_count": null,
   "metadata": {
    "colab": {
     "base_uri": "https://localhost:8080/"
    },
    "executionInfo": {
     "elapsed": 20558,
     "status": "ok",
     "timestamp": 1631686731216,
     "user": {
      "displayName": "Ro Sharp",
      "photoUrl": "https://lh3.googleusercontent.com/a-/AOh14GifyaGhSACwici61ZFOfp11yrK8ogm68F_KuPNU=s64",
      "userId": "15545062169929366684"
     },
     "user_tz": -600
    },
    "id": "zezGyU4lZ4Ks",
    "outputId": "af070f61-a960-45ad-bce8-62973044810a"
   },
   "outputs": [
    {
     "name": "stdout",
     "output_type": "stream",
     "text": [
      "1 7\n",
      "2 4\n",
      "3 2\n",
      "4 8\n",
      "5 6\n",
      "6 1\n",
      "7 3\n",
      "8 5\n",
      "NO\n"
     ]
    }
   ],
   "source": [
    "# 8 ферзей\n",
    "\n",
    "def check(x, y):\n",
    "    k = 1\n",
    "    for j in x:\n",
    "        if x.count(j) > 1 or y.count(j) > 1:\n",
    "                return \"YES\"\n",
    "    for i in range(7):\n",
    "        for n in range(k, 7):\n",
    "            if abs(x[i]-x[n]) == abs(y[i]-y[n]):\n",
    "                return \"YES\"\n",
    "        k += 1\n",
    "    return \"NO\"\n",
    "\n",
    "\n",
    "x = []\n",
    "y = []\n",
    "for i in range(8):\n",
    "    n = list(map(int, input().split()[:2]))\n",
    "    x.append(n[0])\n",
    "    y.append(n[1])\n",
    "print(check(x, y))\n"
   ]
  },
  {
   "cell_type": "code",
   "execution_count": null,
   "metadata": {
    "colab": {
     "base_uri": "https://localhost:8080/"
    },
    "executionInfo": {
     "elapsed": 6064,
     "status": "ok",
     "timestamp": 1631712136488,
     "user": {
      "displayName": "Ro Sharp",
      "photoUrl": "https://lh3.googleusercontent.com/a-/AOh14GifyaGhSACwici61ZFOfp11yrK8ogm68F_KuPNU=s64",
      "userId": "15545062169929366684"
     },
     "user_tz": -600
    },
    "id": "auK_kUiGnn4c",
    "outputId": "dab64182-a998-41f8-94dc-b93cf030e31d"
   },
   "outputs": [
    {
     "name": "stdout",
     "output_type": "stream",
     "text": [
      "0 0 1 2 3\n",
      "0\n"
     ]
    }
   ],
   "source": [
    "# Самый частотный элемент\n",
    "\n",
    "l = list(map(int, input().split()))\n",
    "f, s = 0, 0\n",
    "for i in l:\n",
    "    if l.count(i) > f:\n",
    "        f = l.count(i)\n",
    "        s = i\n",
    "print(s)\n"
   ]
  },
  {
   "cell_type": "code",
   "execution_count": null,
   "metadata": {
    "colab": {
     "base_uri": "https://localhost:8080/"
    },
    "executionInfo": {
     "elapsed": 5919,
     "status": "ok",
     "timestamp": 1631746536282,
     "user": {
      "displayName": "Ro Sharp",
      "photoUrl": "https://lh3.googleusercontent.com/a-/AOh14GifyaGhSACwici61ZFOfp11yrK8ogm68F_KuPNU=s64",
      "userId": "15545062169929366684"
     },
     "user_tz": -600
    },
    "id": "IXEymWZJq4CH",
    "outputId": "07085afc-9cba-4d82-9ad5-0f491f249ad3"
   },
   "outputs": [
    {
     "name": "stdout",
     "output_type": "stream",
     "text": [
      "1 2 3\n",
      "1 2 3\n",
      "1 1 2 2 3 3\n"
     ]
    }
   ],
   "source": [
    "# Merge lists (sorted)\n",
    "\n",
    "def merge(l, b):\n",
    "    return sorted(l + b)\n",
    "\n",
    "l = list(map(int, input().split()))\n",
    "b = list(map(int, input().split()))\n",
    "\n",
    "print(*merge(l, b))\n"
   ]
  },
  {
   "cell_type": "code",
   "execution_count": null,
   "metadata": {
    "colab": {
     "base_uri": "https://localhost:8080/"
    },
    "executionInfo": {
     "elapsed": 10051,
     "status": "ok",
     "timestamp": 1631753820344,
     "user": {
      "displayName": "Ro Sharp",
      "photoUrl": "https://lh3.googleusercontent.com/a-/AOh14GifyaGhSACwici61ZFOfp11yrK8ogm68F_KuPNU=s64",
      "userId": "15545062169929366684"
     },
     "user_tz": -600
    },
    "id": "zznzuJNq-YwG",
    "outputId": "2bead862-b633-4ffb-b067-2440634f1e28"
   },
   "outputs": [
    {
     "name": "stdout",
     "output_type": "stream",
     "text": [
      "1 3 4 7 9\n",
      "2 3 7 10 11\n",
      "3 7\n"
     ]
    }
   ],
   "source": [
    "def check(a, b):\n",
    "    buf = []\n",
    "    i, j = 0, 0\n",
    "    while i < len(a) and j < len(b):\n",
    "        if a[i] == b[j]:\n",
    "            buf.append(a[i])\n",
    "            i += 1\n",
    "            j += 1\n",
    "        elif a[i] > b[j]:\n",
    "            j += 1\n",
    "        elif a[i] < b[j]:\n",
    "            i += 1\n",
    "    return buf\n",
    "\n",
    "a = list(map(int, input().split()))\n",
    "b = list(map(int, input().split()))\n",
    "\n",
    "print(*check(a, b))\n"
   ]
  },
  {
   "cell_type": "code",
   "execution_count": 1,
   "metadata": {
    "colab": {
     "base_uri": "https://localhost:8080/"
    },
    "executionInfo": {
     "elapsed": 12276,
     "status": "ok",
     "timestamp": 1631881423153,
     "user": {
      "displayName": "Ro Sharp",
      "photoUrl": "https://lh3.googleusercontent.com/a-/AOh14GifyaGhSACwici61ZFOfp11yrK8ogm68F_KuPNU=s64",
      "userId": "15545062169929366684"
     },
     "user_tz": -600
    },
    "id": "0if_oA9HtfcU",
    "outputId": "3c560634-4282-48d8-c49b-3b4d35ab81b4"
   },
   "outputs": [
    {
     "name": "stdout",
     "output_type": "stream",
     "text": [
      "100 5\n",
      "20\n",
      "20\n",
      "20\n",
      "20\n",
      "20\n",
      "4\n"
     ]
    }
   ],
   "source": [
    "def arch(S):\n",
    "    k = 0\n",
    "    ch = []\n",
    "    for i in range(S[1]):\n",
    "        ch.append(int(input()))\n",
    "    ch.sort()\n",
    "\n",
    "    for i in range(S[1]):\n",
    "        if ch[i] < S[0]:\n",
    "            k += 1\n",
    "            S[0] -= ch[i]\n",
    "    return k\n",
    "\n",
    "S = list(map(int, input().split()))\n",
    "print(arch(S))\n"
   ]
  },
  {
   "cell_type": "code",
   "execution_count": 2,
   "metadata": {},
   "outputs": [],
   "source": [
    "# Отсортировать имена в списке по алфавиту\n",
    "\n",
    "fin = open('input.txt', 'r', encoding='utf8')\n",
    "fout = open('output.txt', 'w', encoding='utf8')\n",
    "a = []\n",
    "k = 0\n",
    "for line in fin:\n",
    "    line = line.split()\n",
    "    a.append(line)\n",
    "    k += 1\n",
    "a.sort()\n",
    "for i in range(k):\n",
    "    print(a[i][0], a[i][1], a[i][3], file=fout)\n",
    "fin.close()\n",
    "fout.close()"
   ]
  },
  {
   "cell_type": "code",
   "execution_count": 5,
   "metadata": {},
   "outputs": [
    {
     "name": "stdout",
     "output_type": "stream",
     "text": [
      "1 2 3 4\n",
      "0\n",
      "1\n",
      "2\n",
      "3\n"
     ]
    }
   ],
   "source": [
    "myList = list(map(int, input().split()))\n",
    "newList = [] \n",
    "for i in range(len(myList)):\n",
    "      newList.append((myList[i], i))\n",
    "newList.sort()\n",
    "for now in newList:\n",
    "      print(now[1])"
   ]
  },
  {
   "cell_type": "code",
   "execution_count": 12,
   "metadata": {},
   "outputs": [
    {
     "name": "stdout",
     "output_type": "stream",
     "text": [
      "0 1 0 1 10 9 0\n",
      "0 0 0 1 1 9 10 "
     ]
    }
   ],
   "source": [
    "# Сортировка подсчетом\n",
    "\n",
    "myList = list(map(int, input().split()))\n",
    "grades = [0] * 11\n",
    "for now in myList:\n",
    "    grades[now] += 1\n",
    "for grade in range(len(grades)):\n",
    "    for i in range(grades[grade]):\n",
    "        print(grade, end=' ')"
   ]
  },
  {
   "cell_type": "code",
   "execution_count": 13,
   "metadata": {},
   "outputs": [
    {
     "name": "stdout",
     "output_type": "stream",
     "text": [
      "1 7 6 9 4 10\n",
      "1\n"
     ]
    }
   ],
   "source": [
    "# Медленная сортировка, так не стоит\n",
    "\n",
    "myList = list(map(int, input().split()))\n",
    "myList.sort()\n",
    "print(myList[0])"
   ]
  },
  {
   "cell_type": "code",
   "execution_count": null,
   "metadata": {},
   "outputs": [],
   "source": [
    "# Можно сделать и таким образом\n",
    "myList = list(map(int, input().split()))\n",
    "print(min(myList))"
   ]
  },
  {
   "cell_type": "code",
   "execution_count": null,
   "metadata": {},
   "outputs": [],
   "source": [
    "A = list(map(int, input().split()))\n",
    "n = max(A)\n",
    "B = [0] * (n + 1)\n",
    "for i in A:\n",
    "    B[i] += 1\n",
    "for j in range(n + 1):\n",
    "    print((str(j) + ' ') * B[j], end='')"
   ]
  },
  {
   "cell_type": "code",
   "execution_count": null,
   "metadata": {},
   "outputs": [],
   "source": [
    "# Сортировка студентов по оценкам\n",
    "\n",
    "students = []\n",
    "number = int(input())\n",
    "for i in range(number):\n",
    "    students.append(list(map(str, input().split())))\n",
    "students.sort(key=lambda p: int(p[1]) * -1)\n",
    "for i in students:\n",
    "    print(i[0])"
   ]
  },
  {
   "cell_type": "code",
   "execution_count": 7,
   "metadata": {},
   "outputs": [
    {
     "name": "stdout",
     "output_type": "stream",
     "text": [
      "[['Иванов', 'Сергей', '70', '70', '70'], ['Петров', 'Василий', '70', '60', '70'], ['Андреев', 'Денис', '100', '30', '100'], ['Романов', 'Иван', '60', '70', '70'], ['Ким', 'Ир', 'Сен', '40', '40', '40']]\n"
     ]
    }
   ],
   "source": [
    "fin = open('input.txt', 'r', encoding='utf8')\n",
    "i = 0\n",
    "buf = []\n",
    "aver = []\n",
    "for i in fin:\n",
    "    buf.append(list(map(str, fin.readline().split())))\n",
    "print(buf)"
   ]
  },
  {
   "cell_type": "code",
   "execution_count": 14,
   "metadata": {
    "scrolled": true
   },
   "outputs": [
    {
     "name": "stdout",
     "output_type": "stream",
     "text": [
      "[100, 100, 500, 1000, 1000, 1000, 5000, 5000, 5000]\n"
     ]
    }
   ],
   "source": [
    "# Банкомат\n",
    "\n",
    "B = [50, 100, 500, 1000, 5000]\n",
    "S = 18700\n",
    "inf = 10**6\n",
    "F = [0] + [inf] * S\n",
    "Prev = [-1] * (S + 1)\n",
    "for i in range(1, S + 1):\n",
    "    for j in range(len(B)):\n",
    "        if i - B[j] >= 0 and F[i - B[j]] < F[i]:\n",
    "            F[i] = F[i - B[j]]\n",
    "            Prev[i] = B[j]\n",
    "    F[i] += 1\n",
    "Ans = []\n",
    "while S > 0:\n",
    "    Ans.append(Prev[S])\n",
    "    S -= Prev[S]\n",
    "print(Ans)"
   ]
  },
  {
   "cell_type": "code",
   "execution_count": 15,
   "metadata": {},
   "outputs": [
    {
     "name": "stdout",
     "output_type": "stream",
     "text": [
      "[100, 500, 1000, 5000, 100, 1000, 5000, 1000, 5000]\n"
     ]
    }
   ],
   "source": [
    "B = [50, 100, 500, 1000, 5000]\n",
    "S = 18700\n",
    "inf = 10**6\n",
    "F = [0] + [inf] * S\n",
    "Prev = [-1] * (S + 1)\n",
    "for i in range(1, S + 1):\n",
    "    for j in range(len(B)):\n",
    "        if i - B[j] >= 0 and F[i - B[j]] < F[i]:\n",
    "            F[i] = F[i - B[j]]\n",
    "            Prev[i] = B[j]\n",
    "    F[i] += 1\n",
    "Ans = []\n",
    "curr = S\n",
    "while curr > 0:\n",
    "    for i in range(len(B)):\n",
    "        if curr - B[i] >= 0 and F[curr] == F[curr - B[i]] + 1:\n",
    "            Ans.append(B[i])\n",
    "            curr -= B[i]\n",
    "print(Ans)"
   ]
  },
  {
   "cell_type": "code",
   "execution_count": null,
   "metadata": {},
   "outputs": [],
   "source": [
    "# Count different numbers\n",
    "\n",
    "myList = map(int, input().split())\n",
    "mySet = set(myList)\n",
    "print(len(mySet))"
   ]
  }
 ],
 "metadata": {
  "colab": {
   "authorship_tag": "ABX9TyNQjjMw2slXGCruxItzRtRs",
   "collapsed_sections": [],
   "name": "Задачки.ipynb",
   "provenance": []
  },
  "kernelspec": {
   "display_name": "Python 3 (ipykernel)",
   "language": "python",
   "name": "python3"
  },
  "language_info": {
   "codemirror_mode": {
    "name": "ipython",
    "version": 3
   },
   "file_extension": ".py",
   "mimetype": "text/x-python",
   "name": "python",
   "nbconvert_exporter": "python",
   "pygments_lexer": "ipython3",
   "version": "3.9.0"
  }
 },
 "nbformat": 4,
 "nbformat_minor": 1
}
